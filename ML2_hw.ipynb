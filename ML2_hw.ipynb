{
 "cells": [
  {
   "cell_type": "code",
   "execution_count": 31,
   "id": "c769e1e5-5800-4d20-9d92-fbe6a9056c5a",
   "metadata": {},
   "outputs": [],
   "source": [
    "!pip install seaborn -q\n",
    "!pip install catboost -q\n",
    "\n",
    "import numpy as np\n",
    "import pandas as pd"
   ]
  },
  {
   "cell_type": "code",
   "execution_count": 32,
   "id": "f8e03132-06f1-4499-a0c5-e3f1d3fa6fb9",
   "metadata": {},
   "outputs": [],
   "source": [
    "catboost_data = pd.read_csv(\"./train.csv\")"
   ]
  },
  {
   "cell_type": "code",
   "execution_count": 33,
   "id": "6d4670aa-17c1-4549-bd2b-23e04df27e08",
   "metadata": {},
   "outputs": [],
   "source": [
    "cat_features = [\"model\", \"car_type\", \"fuel_type\"]\n",
    "targets = [\"target_class\", \"target_reg\"]\n",
    "drop_feat = [\"car_id\"]"
   ]
  },
  {
   "cell_type": "code",
   "execution_count": 34,
   "id": "530f1a9d-6144-4329-bf24-49712121fe85",
   "metadata": {},
   "outputs": [
    {
     "name": "stdout",
     "output_type": "stream",
     "text": [
      "cat_features ['model', 'car_type', 'fuel_type']\n",
      "num_features 11\n",
      "targets ['target_class', 'target_reg']\n"
     ]
    }
   ],
   "source": [
    "filtered_features = [i for i in catboost_data.columns if (i not in targets and i not in drop_feat)]\n",
    "num_features = [i for i in filtered_features if i not in cat_features]\n",
    "\n",
    "print(\"cat_features\", cat_features)\n",
    "print(\"num_features\", len(num_features))\n",
    "print(\"targets\", targets)"
   ]
  },
  {
   "cell_type": "code",
   "execution_count": 35,
   "id": "7a6b02ea-bb3c-4042-bfcf-607195751e6d",
   "metadata": {},
   "outputs": [],
   "source": [
    "for c in cat_features:\n",
    "    catboost_data[c] = catboost_data[c].astype(str)"
   ]
  },
  {
   "cell_type": "code",
   "execution_count": 36,
   "id": "f7b6e636-d8ea-40d7-a845-c83fec9d9bb2",
   "metadata": {},
   "outputs": [],
   "source": [
    "from sklearn.model_selection import train_test_split\n",
    "\n",
    "X = catboost_data[filtered_features].drop(targets, axis=1, errors=\"ignore\")\n",
    "y = catboost_data[\"target_reg\"]"
   ]
  },
  {
   "cell_type": "code",
   "execution_count": 37,
   "id": "66afbbda-9b12-42a2-ab46-108a688ad1e4",
   "metadata": {},
   "outputs": [],
   "source": [
    "X_train, X_test, y_train, y_test = train_test_split(X, y, test_size=0.2, random_state=42)"
   ]
  },
  {
   "cell_type": "code",
   "execution_count": 38,
   "id": "9093f6c0-2866-4d60-99b0-d1d655418045",
   "metadata": {},
   "outputs": [
    {
     "name": "stdout",
     "output_type": "stream",
     "text": [
      "Learning rate set to 0.045195\n",
      "0:\tlearn: 17.1862834\ttotal: 18.7ms\tremaining: 18.7s\n",
      "500:\tlearn: 7.8920293\ttotal: 9.13s\tremaining: 9.09s\n",
      "999:\tlearn: 6.0539782\ttotal: 18s\tremaining: 0us\n",
      "{'learn': {'RMSE': 6.053978188487934}}\n"
     ]
    }
   ],
   "source": [
    "from catboost import CatBoostClassifier, CatBoostRegressor, Pool\n",
    "\n",
    "model = CatBoostRegressor(cat_features=cat_features, eval_metric=\"RMSE\")\n",
    "\n",
    "model.fit(\n",
    "    X_train,\n",
    "    y_train,\n",
    "    verbose=500,\n",
    "    plot=False,\n",
    ")\n",
    "\n",
    "print(model.best_score_)"
   ]
  },
  {
   "cell_type": "code",
   "execution_count": null,
   "id": "6a269cee-982d-4bec-9fbd-41e88fcaef8e",
   "metadata": {},
   "outputs": [
    {
     "name": "stdout",
     "output_type": "stream",
     "text": [
      "0:\tlearn: 16.8709193\ttest: 17.5903213\tbest: 17.5903213 (0)\ttotal: 10.2ms\tremaining: 10.2s\n",
      "500:\tlearn: 8.6450532\ttest: 12.2367538\tbest: 11.9853255 (111)\ttotal: 6.04s\tremaining: 6.02s\n"
     ]
    }
   ],
   "source": [
    "from catboost import CatBoostClassifier, CatBoostRegressor, Pool\n",
    "\n",
    "cbr = CatBoostRegressor(\n",
    "        depth=4,\n",
    "        iterations=1000,\n",
    "        learning_rate=0.09,   \n",
    "        cat_features=cat_features,\n",
    "        colsample_bylevel=0.99,\n",
    "        max_bin=190,\n",
    "        l2_leaf_reg=5,\n",
    "        subsample=0.5,)\n",
    "\n",
    "cbr.fit(\n",
    "        X_train,\n",
    "        y_train,\n",
    "        eval_set=(X_test, y_test),\n",
    "        verbose=500,\n",
    "        plot=False)\n",
    "\n",
    "\n",
    "print(cbr.best_score_)"
   ]
  },
  {
   "cell_type": "code",
   "execution_count": null,
   "id": "86f00968-ae49-48fc-b381-ea0b41416ab7",
   "metadata": {},
   "outputs": [],
   "source": [
    "test = pd.read_csv('test.csv')\n",
    "for c in cat_features:\n",
    "    test[c] = test[c].astype(str)\n",
    "    \n",
    "x_test = test[filtered_features].drop(targets, axis=1, errors=\"ignore\")\n",
    "\n",
    "y_pred = cbr.predict(x_test)\n",
    "catboost_res = pd.DataFrame({'car_id': test['car_id'], 'target_reg': y_pred})\n",
    "catboost_res.to_csv('catboost_res.csv', index=False)"
   ]
  },
  {
   "cell_type": "code",
   "execution_count": null,
   "id": "62dec2ae-3dac-42de-a7bb-0278aa868f1b",
   "metadata": {},
   "outputs": [],
   "source": [
    "# LGBM\n",
    "\n",
    "\n",
    "!pip install lightgbm -q\n",
    "\n",
    "import lightgbm as lgb\n",
    "\n",
    "df = pd.read_csv(\"train.csv\")\n",
    "cat_cols = [\"car_type\", \"fuel_type\", \"model\"]\n",
    "drop_cols = [\"car_id\", \"target_reg\", \"target_class\"]\n",
    "\n",
    "X = df.drop(drop_cols, axis=1)\n",
    "y = df[\"target_reg\"]"
   ]
  },
  {
   "cell_type": "code",
   "execution_count": null,
   "id": "e7fea0aa-6a32-4117-8cbb-fe0bb24dbbd5",
   "metadata": {},
   "outputs": [],
   "source": [
    "from sklearn.preprocessing import LabelEncoder\n",
    "\n",
    "label_encoder = LabelEncoder()\n",
    "for col in cat_cols:\n",
    "    X[col] = label_encoder.fit_transform(X[col])"
   ]
  },
  {
   "cell_type": "code",
   "execution_count": null,
   "id": "96b9ba10-c93e-4b38-b341-eeaebb63c2b5",
   "metadata": {},
   "outputs": [],
   "source": [
    "X_train, X_test, y_train, y_test = train_test_split(X, y, test_size=0.2, random_state=42)"
   ]
  },
  {
   "cell_type": "code",
   "execution_count": null,
   "id": "dc4e1d34-0a02-4e0d-9526-919c11d39364",
   "metadata": {},
   "outputs": [],
   "source": [
    "from lightgbm import Dataset\n",
    "\n",
    "train_data = Dataset(\n",
    "    X_train,\n",
    "    y_train,\n",
    "    categorical_feature=cat_cols,\n",
    "    free_raw_data=False,\n",
    ")\n",
    "\n",
    "val_data = Dataset(\n",
    "    X_test,\n",
    "    y_test,\n",
    "    categorical_feature=cat_cols,\n",
    "    free_raw_data=False,\n",
    ")"
   ]
  },
  {
   "cell_type": "code",
   "execution_count": null,
   "id": "1fa33887-3db9-42d6-9427-52131bf47603",
   "metadata": {},
   "outputs": [],
   "source": [
    "from lightgbm import train ,LGBMRegressor\n",
    "\n",
    "\n",
    "reg = LGBMRegressor(metric = \"RMSE\")\n",
    "\n",
    "reg.fit(\n",
    "    X_train,\n",
    "    y_train,\n",
    "    eval_set=[\n",
    "        (X_test, y_test),\n",
    "    ],\n",
    ")\n",
    "print(reg.best_score_)"
   ]
  },
  {
   "cell_type": "code",
   "execution_count": null,
   "id": "57573aca-7673-4b0c-ac99-e7e1f4ec9c72",
   "metadata": {},
   "outputs": [],
   "source": [
    "reg = LGBMRegressor(\n",
    "    n_estimators=40,\n",
    "    learning_rate = 0.09,\n",
    "    cat_feature=[0, 1, 2],\n",
    "    num_leaves = 8,\n",
    "    metric=\"RMSE\")\n",
    "\n",
    "reg.fit(\n",
    "    X_train,\n",
    "    y_train,\n",
    "    eval_set=[\n",
    "        (X_test, y_test),\n",
    "    ],\n",
    ")\n",
    "\n",
    "print(reg.best_score_)"
   ]
  },
  {
   "cell_type": "code",
   "execution_count": null,
   "id": "f29b1eae-81ca-4893-b35a-05c2b56d2e47",
   "metadata": {},
   "outputs": [],
   "source": [
    "test = pd.read_csv(\"./test.csv\")\n",
    "\n",
    "drop_cols = [\"car_id\", \"target_class\"]\n",
    "x_test = test.drop(drop_cols, axis=1)\n",
    "\n",
    "for col in cat_cols:\n",
    "    x_test[col] = label_encoder.fit_transform(x_test[col])\n",
    "\n",
    "y_pred = reg.predict(x_test)\n",
    "LGBMres = pd.DataFrame({'car_id': test['car_id'], 'target_reg': y_pred})\n",
    "LGBMres.to_csv('LGBM_res.csv', index=False)"
   ]
  },
  {
   "cell_type": "code",
   "execution_count": null,
   "id": "7d5040bd-69a4-47ee-88e8-77add475b181",
   "metadata": {},
   "outputs": [],
   "source": [
    "# XGBoost\n",
    "\n",
    "!pip install xgboost -q\n",
    "import xgboost as xgb\n",
    "import warnings; warnings.filterwarnings(\"ignore\")"
   ]
  },
  {
   "cell_type": "code",
   "execution_count": null,
   "id": "3c9c9718-1ce1-4b9a-a282-8d2268a21c08",
   "metadata": {},
   "outputs": [],
   "source": [
    "xgb_data = pd.read_csv(\"./train.csv\")\n",
    "drop_cols = ['car_id', 'target_reg', 'target_class']\n",
    "cat_cols = ['car_type', 'fuel_type', 'model']\n",
    "\n",
    "X = xgb_data.drop(drop_cols, axis=1)\n",
    "y = xgb_data['target_reg']\n",
    "\n",
    " \n",
    "for col in cat_cols:\n",
    "    X[col] = X[col].astype('category')\n",
    "\n",
    "X_train, X_test, y_train, y_test = train_test_split(X, y, test_size=0.2, random_state=42)"
   ]
  },
  {
   "cell_type": "code",
   "execution_count": null,
   "id": "03f79e6f-3967-461c-9341-6b2982991c33",
   "metadata": {},
   "outputs": [],
   "source": [
    "from sklearn.metrics import mean_poisson_deviance, mean_squared_error\n",
    "\n",
    "reg = xgb.XGBRegressor(tree_method=\"hist\",\n",
    "                       eval_metric = mean_poisson_deviance,\n",
    "                       enable_categorical=True,\n",
    "                       n_estimators=30, n_jobs=-1\n",
    ")\n",
    "reg.fit(X_train, y_train,\n",
    "        eval_set=[(X_test, y_test)],\n",
    "        early_stopping_rounds=10,\n",
    "        verbose=3)\n",
    "\n",
    "y_pred = reg.predict(X_test, iteration_range=(0, reg.best_iteration + 1))\n",
    "mean_squared_error(y_test, y_pred) ** 0.5"
   ]
  },
  {
   "cell_type": "code",
   "execution_count": null,
   "id": "0efe9611-f355-4322-8e4b-b4293a10b5d0",
   "metadata": {
    "scrolled": true
   },
   "outputs": [],
   "source": [
    "reg = xgb.XGBRegressor(tree_method=\"hist\",\n",
    "                       eval_metric = mean_poisson_deviance,\n",
    "                       enable_categorical=True,\n",
    "                       n_estimators=80, \n",
    "                       n_jobs=-1,\n",
    "                       min_child_weight=16,\n",
    "                       max_bin=128,\n",
    "                       reg_alpha=275,\n",
    "                       reg_lambda=275,)\n",
    "\n",
    "reg.fit(X_train, y_train,\n",
    "        eval_set=[(X_test, y_test)],\n",
    "        early_stopping_rounds=10,\n",
    "        verbose=3)\n",
    "\n",
    "y_pred = reg.predict(X_test, iteration_range=(0, reg.best_iteration + 1))\n",
    "mean_squared_error(y_test, y_pred) ** 0.5"
   ]
  },
  {
   "cell_type": "code",
   "execution_count": null,
   "id": "4187b04b-446d-4d88-918f-9ebcef444746",
   "metadata": {},
   "outputs": [],
   "source": [
    "test = pd.read_csv('./test.csv')\n",
    "\n",
    "drop_cols = ['car_id', 'target_class']\n",
    "x_test = test.drop(drop_cols, axis=1)\n",
    "\n",
    "for col in cat_cols:\n",
    "    x_test[col] = x_test[col].astype('category')\n",
    "\n",
    "y_pred = reg.predict(x_test)\n",
    "XGBoostres = pd.DataFrame({'car_id': test['car_id'], 'target_reg': y_pred})\n",
    "XGBoostres.to_csv('XGBoost_res.csv', index=False)"
   ]
  },
  {
   "cell_type": "code",
   "execution_count": null,
   "id": "44dc3b72-33a4-4944-b7a2-86328b747b9d",
   "metadata": {},
   "outputs": [],
   "source": []
  }
 ],
 "metadata": {
  "kernelspec": {
   "display_name": "Python 3 (ipykernel)",
   "language": "python",
   "name": "python3"
  },
  "language_info": {
   "codemirror_mode": {
    "name": "ipython",
    "version": 3
   },
   "file_extension": ".py",
   "mimetype": "text/x-python",
   "name": "python",
   "nbconvert_exporter": "python",
   "pygments_lexer": "ipython3",
   "version": "3.10.8"
  }
 },
 "nbformat": 4,
 "nbformat_minor": 5
}
